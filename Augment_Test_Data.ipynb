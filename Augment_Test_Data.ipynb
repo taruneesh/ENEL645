{
 "cells": [
  {
   "cell_type": "code",
   "execution_count": 30,
   "metadata": {
    "executionInfo": {
     "elapsed": 838,
     "status": "ok",
     "timestamp": 1618469522486,
     "user": {
      "displayName": "sanyam kumar",
      "photoUrl": "",
      "userId": "08449971519816812093"
     },
     "user_tz": 360
    },
    "id": "7jlaR26AO4yI"
   },
   "outputs": [],
   "source": [
    "import os\n",
    "from skimage import io \n",
    "from skimage.transform import rotate, AffineTransform, warp\n",
    "from skimage import img_as_ubyte\n",
    "from skimage.util import random_noise\n",
    "from PIL import Image\n",
    "import cv2"
   ]
  },
  {
   "cell_type": "code",
   "execution_count": 31,
   "metadata": {
    "colab": {
     "base_uri": "https://localhost:8080/"
    },
    "executionInfo": {
     "elapsed": 639,
     "status": "ok",
     "timestamp": 1618469522487,
     "user": {
      "displayName": "sanyam kumar",
      "photoUrl": "",
      "userId": "08449971519816812093"
     },
     "user_tz": 360
    },
    "id": "cq4IWdv3Scpe",
    "outputId": "90233e0f-e304-458c-a7d6-d818f9f09f8a"
   },
   "outputs": [
    {
     "name": "stdout",
     "output_type": "stream",
     "text": [
      "Drive already mounted at /content/gdrive; to attempt to forcibly remount, call drive.mount(\"/content/gdrive\", force_remount=True).\n"
     ]
    }
   ],
   "source": [
    "from google.colab import drive\n",
    "drive.mount('/content/gdrive')"
   ]
  },
  {
   "cell_type": "code",
   "execution_count": 32,
   "metadata": {
    "executionInfo": {
     "elapsed": 338,
     "status": "ok",
     "timestamp": 1618469522488,
     "user": {
      "displayName": "sanyam kumar",
      "photoUrl": "",
      "userId": "08449971519816812093"
     },
     "user_tz": 360
    },
    "id": "WK9QJCv8STq0"
   },
   "outputs": [],
   "source": [
    "def anticlockwise_rotation_45(image):\n",
    "    return rotate(image, angle = 45)\n",
    "\n",
    "def clockwise_rotation_45(image):\n",
    "    return rotate(image, angle = -45)"
   ]
  },
  {
   "cell_type": "code",
   "execution_count": 33,
   "metadata": {
    "executionInfo": {
     "elapsed": 572,
     "status": "ok",
     "timestamp": 1618469522984,
     "user": {
      "displayName": "sanyam kumar",
      "photoUrl": "",
      "userId": "08449971519816812093"
     },
     "user_tz": 360
    },
    "id": "rM0lCzEoSFIN"
   },
   "outputs": [],
   "source": [
    "images_path1=\"/content/gdrive/MyDrive/ENEL645/ProjectSiameseModel/Test_Images/\" #path to original images\n",
    "augmented_path1=\"/content/gdrive/MyDrive/ENEL645/ProjectSiameseModel/New_Test_Image/\" # path to store augmented images"
   ]
  },
  {
   "cell_type": "code",
   "execution_count": 37,
   "metadata": {
    "colab": {
     "base_uri": "https://localhost:8080/"
    },
    "executionInfo": {
     "elapsed": 5856,
     "status": "ok",
     "timestamp": 1618469724188,
     "user": {
      "displayName": "sanyam kumar",
      "photoUrl": "",
      "userId": "08449971519816812093"
     },
     "user_tz": 360
    },
    "id": "4UYQYuXUSLsQ",
    "outputId": "a758f99b-800a-44a7-b82d-ba9c3953d1da"
   },
   "outputs": [
    {
     "name": "stdout",
     "output_type": "stream",
     "text": [
      "/content/gdrive/MyDrive/ENEL645/ProjectSiameseModel/New_Test_Image/Sanyam_Test_image_2_new1.jpg\n",
      "/content/gdrive/MyDrive/ENEL645/ProjectSiameseModel/New_Test_Image/Sanyam_Test_image_2_new2.jpg\n",
      "/content/gdrive/MyDrive/ENEL645/ProjectSiameseModel/New_Test_Image/Sanyam_Test_image1_new1.jpg\n",
      "/content/gdrive/MyDrive/ENEL645/ProjectSiameseModel/New_Test_Image/Sanyam_Test_image1_new2.jpg\n",
      "/content/gdrive/MyDrive/ENEL645/ProjectSiameseModel/New_Test_Image/Chetana_Test_image_1_new1.jpg\n",
      "/content/gdrive/MyDrive/ENEL645/ProjectSiameseModel/New_Test_Image/Chetana_Test_image_1_new2.jpg\n",
      "/content/gdrive/MyDrive/ENEL645/ProjectSiameseModel/New_Test_Image/Chetana_Test_image2_new1.jpg\n",
      "/content/gdrive/MyDrive/ENEL645/ProjectSiameseModel/New_Test_Image/Chetana_Test_image2_new2.jpg\n",
      "/content/gdrive/MyDrive/ENEL645/ProjectSiameseModel/New_Test_Image/Neha_Test_Image_1_new1.jpg\n",
      "/content/gdrive/MyDrive/ENEL645/ProjectSiameseModel/New_Test_Image/Neha_Test_Image_1_new2.jpg\n",
      "/content/gdrive/MyDrive/ENEL645/ProjectSiameseModel/New_Test_Image/Neha_Test_image2_new1.jpg\n",
      "/content/gdrive/MyDrive/ENEL645/ProjectSiameseModel/New_Test_Image/Neha_Test_image2_new2.jpg\n",
      "/content/gdrive/MyDrive/ENEL645/ProjectSiameseModel/New_Test_Image/Prabhleen_Test_Image_2_new1.jpg\n",
      "/content/gdrive/MyDrive/ENEL645/ProjectSiameseModel/New_Test_Image/Prabhleen_Test_Image_2_new2.jpg\n",
      "/content/gdrive/MyDrive/ENEL645/ProjectSiameseModel/New_Test_Image/Prabhleen_Test_Image_4_new1.jpg\n",
      "/content/gdrive/MyDrive/ENEL645/ProjectSiameseModel/New_Test_Image/Prabhleen_Test_Image_4_new2.jpg\n",
      "/content/gdrive/MyDrive/ENEL645/ProjectSiameseModel/New_Test_Image/Taruneesh_Test_Image_1_new1.jpg\n",
      "/content/gdrive/MyDrive/ENEL645/ProjectSiameseModel/New_Test_Image/Taruneesh_Test_Image_1_new2.jpg\n",
      "/content/gdrive/MyDrive/ENEL645/ProjectSiameseModel/New_Test_Image/Taruneesh_Test_Image_2_new1.jpg\n",
      "/content/gdrive/MyDrive/ENEL645/ProjectSiameseModel/New_Test_Image/Taruneesh_Test_Image_2_new2.jpg\n",
      "/content/gdrive/MyDrive/ENEL645/ProjectSiameseModel/New_Test_Image/Chetana_Test_image3_new1.jpg\n",
      "/content/gdrive/MyDrive/ENEL645/ProjectSiameseModel/New_Test_Image/Chetana_Test_image3_new2.jpg\n",
      "/content/gdrive/MyDrive/ENEL645/ProjectSiameseModel/New_Test_Image/Taruneesh_Test_Image_4_new1.jpg\n",
      "/content/gdrive/MyDrive/ENEL645/ProjectSiameseModel/New_Test_Image/Taruneesh_Test_Image_4_new2.jpg\n",
      "/content/gdrive/MyDrive/ENEL645/ProjectSiameseModel/New_Test_Image/Taruneesh_Test_Image_3_new1.jpg\n",
      "/content/gdrive/MyDrive/ENEL645/ProjectSiameseModel/New_Test_Image/Taruneesh_Test_Image_3_new2.jpg\n",
      "/content/gdrive/MyDrive/ENEL645/ProjectSiameseModel/New_Test_Image/Sanyam_Test_image3_new1.jpg\n",
      "/content/gdrive/MyDrive/ENEL645/ProjectSiameseModel/New_Test_Image/Sanyam_Test_image3_new2.jpg\n",
      "/content/gdrive/MyDrive/ENEL645/ProjectSiameseModel/New_Test_Image/Sanyam_Test_image4_new1.jpg\n",
      "/content/gdrive/MyDrive/ENEL645/ProjectSiameseModel/New_Test_Image/Sanyam_Test_image4_new2.jpg\n",
      "/content/gdrive/MyDrive/ENEL645/ProjectSiameseModel/New_Test_Image/Prabhleen_Test_Image_3_new1.jpg\n",
      "/content/gdrive/MyDrive/ENEL645/ProjectSiameseModel/New_Test_Image/Prabhleen_Test_Image_3_new2.jpg\n",
      "/content/gdrive/MyDrive/ENEL645/ProjectSiameseModel/New_Test_Image/Prabhleen_Test_Image_1_new1.jpg\n",
      "/content/gdrive/MyDrive/ENEL645/ProjectSiameseModel/New_Test_Image/Prabhleen_Test_Image_1_new2.jpg\n",
      "/content/gdrive/MyDrive/ENEL645/ProjectSiameseModel/New_Test_Image/Neha_image_3_new1.jpg\n",
      "/content/gdrive/MyDrive/ENEL645/ProjectSiameseModel/New_Test_Image/Neha_image_3_new2.jpg\n"
     ]
    }
   ],
   "source": [
    "# Generating the new test data\n",
    "sub_dir_list = os.listdir(images_path1 )\n",
    "for i in range( len( sub_dir_list ) ):\n",
    "    # getting the names of the images of a particular person[i.e. ..images/Sanyam]\n",
    "    image_names_path = os.path.join(images_path1 , sub_dir_list[i])\n",
    "    #print(image_names_path)\n",
    "    image = io.imread(image_names_path)\n",
    "    transformed_image1 = anticlockwise_rotation_45(image)\n",
    "    transformed_image2 = clockwise_rotation_45(image)\n",
    "    out_path1= \"%s%s_%s.jpg\" %(augmented_path1, sub_dir_list[i].split('.')[0], \"new1\")\n",
    "    out_path2= \"%s%s_%s.jpg\" %(augmented_path1, sub_dir_list[i].split('.')[0], \"new2\")\n",
    "    print(out_path1)\n",
    "    print(out_path2)\n",
    "    transformed_image1 = img_as_ubyte(transformed_image1)\n",
    "    transformed_image2 = img_as_ubyte(transformed_image2)\n",
    "    transformed_image1=cv2.cvtColor(transformed_image1, cv2.COLOR_BGR2RGB)\n",
    "    transformed_image2=cv2.cvtColor(transformed_image2, cv2.COLOR_BGR2RGB)\n",
    "    cv2.imwrite(out_path1, transformed_image1)\n",
    "    cv2.imwrite(out_path2, transformed_image2)\n",
    "  \n",
    "    "
   ]
  }
 ],
 "metadata": {
  "colab": {
   "authorship_tag": "ABX9TyMqcpTRT3f6WZwsGZC+T3X8",
   "name": "Augment_Test_Data.ipynb",
   "provenance": []
  },
  "kernelspec": {
   "display_name": "Python 3",
   "language": "python",
   "name": "python3"
  },
  "language_info": {
   "codemirror_mode": {
    "name": "ipython",
    "version": 3
   },
   "file_extension": ".py",
   "mimetype": "text/x-python",
   "name": "python",
   "nbconvert_exporter": "python",
   "pygments_lexer": "ipython3",
   "version": "3.8.5"
  }
 },
 "nbformat": 4,
 "nbformat_minor": 1
}
